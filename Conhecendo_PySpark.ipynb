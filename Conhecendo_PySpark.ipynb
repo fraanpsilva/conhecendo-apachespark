{
  "nbformat": 4,
  "nbformat_minor": 0,
  "metadata": {
    "colab": {
      "provenance": [],
      "collapsed_sections": [
        "sn6JI6bug3oa",
        "o9nn3pO5g-JC",
        "39sxbKIOqfnw",
        "-uyhezRP7b-d",
        "2e6U54_J_wOm",
        "RwoRCNmcspIU",
        "uP48_9lbvDMS",
        "GL1x6yyTYwNe",
        "DQoSXjihggke",
        "kHwZyAXftcNy",
        "KEtS-ZTbKDa7"
      ],
      "mount_file_id": "1waRPwoKvKgEiKvxBSGl1eNuPrk2dGk1j",
      "authorship_tag": "ABX9TyNvqFTYN3Sv/10EaLnqPjhj",
      "include_colab_link": true
    },
    "kernelspec": {
      "name": "python3",
      "display_name": "Python 3"
    },
    "language_info": {
      "name": "python"
    }
  },
  "cells": [
    {
      "cell_type": "markdown",
      "metadata": {
        "id": "view-in-github",
        "colab_type": "text"
      },
      "source": [
        "<a href=\"https://colab.research.google.com/github/fraanpsilva/conhecendo-apachespark/blob/main/Conhecendo_PySpark.ipynb\" target=\"_parent\"><img src=\"https://colab.research.google.com/assets/colab-badge.svg\" alt=\"Open In Colab\"/></a>"
      ]
    },
    {
      "cell_type": "markdown",
      "source": [
        "## Apache Spark - Introdução\n",
        "\n",
        "#### Apache Spark\n",
        "Apache Spark é uma plataforma de computação em cluster que fornece uma API para programação distribuída para processamento de dados em larga escala, semelhante ao modelo MapReduce, mas projetada para ser rápida para consultas interativas e algoritmos iterativos.\n",
        "\n",
        "O Spark permite que você distribua distribua dados e tarefas em clusters com vários nós. Imagine cada nó como um computador separado. A divisão dos dados torna mais fácil o trabalho com conjuntos de dados muito grandes porque cada nó funciona processa apenas uma parte parte do volume total de dados.\n",
        "\n",
        "O Spark é amplamente utilizado em projetos analíticos nas seguintes frentes:\n",
        "\n",
        "- Preparação de dados\n",
        "- Modelos de machine learning\n",
        "- Análise de dados em tempo real"
      ],
      "metadata": {
        "id": "55cW5ukXg4GV"
      }
    },
    {
      "cell_type": "markdown",
      "source": [
        "### [PySpark](https://spark.apache.org/docs/3.1.2/api/python/index.html)\n",
        "\n",
        "PySpark é uma interface para Apache Spark em Python. Ele não apenas permite que você escreva aplicativos Spark usando APIs Python, mas também fornece o *shell* PySpark para analisar interativamente seus dados em um ambiente distribuído. O PySpark oferece suporte à maioria dos recursos do Spark, como Spark SQL, DataFrame, Streaming, MLlib (Machine Learning) e Spark Core.\n",
        "\n",
        "<center><img src=\"https://caelum-online-public.s3.amazonaws.com/2273-introducao-spark/01/img-001.png\"/></center>\n",
        "\n",
        "#### Spark SQL e DataFrame\n",
        "\n",
        "Spark SQL é um módulo Spark para processamento de dados estruturados. Ele fornece uma abstração de programação chamada DataFrame e também pode atuar como mecanismo de consulta SQL distribuído.\n",
        "\n",
        "#### Spark Streaming\n",
        "\n",
        "Executando em cima do Spark, o recurso de *streaming* no Apache Spark possibilita o uso de poderosas aplicações interativas e analíticas em *streaming* e dados históricos, enquanto herda a facilidade de uso do Spark e as características de tolerância a falhas.\n",
        "\n",
        "#### Spark MLlib\n",
        "\n",
        "Construído sobre o Spark, MLlib é uma biblioteca de aprendizado de máquina escalonável que fornece um conjunto uniforme de APIs de alto nível que ajudam os usuários a criar e ajustar *pipelines* de aprendizado de máquina práticos.\n",
        "\n",
        "#### Spark Core\n",
        "\n",
        "Spark Core é o mecanismo de execução geral subjacente para a plataforma Spark sobre o qual todas as outras funcionalidades são construídas. Ele fornece um RDD (*Resilient Distributed Dataset*) e recursos de computação na memória."
      ],
      "metadata": {
        "id": "-9G8TZuSrUvQ"
      }
    },
    {
      "cell_type": "markdown",
      "source": [
        "## Projeto\n",
        "Este projeto consiste em ler, manipular, tratar e salvar um conjunto de dados volumosos utilizando como ferramenta o Spark."
      ],
      "metadata": {
        "id": "Xrg6BI2vYAvD"
      }
    },
    {
      "cell_type": "markdown",
      "source": [
        "#### Preparando o ambiente"
      ],
      "metadata": {
        "id": "aY8bb0O2YmXk"
      }
    },
    {
      "cell_type": "code",
      "execution_count": null,
      "metadata": {
        "id": "kcBEh7GOXSjj"
      },
      "outputs": [],
      "source": [
        "!pip install pyspark\n",
        "!pip install findspark\n",
        "\n",
        "# imports\n",
        "import pyspark\n",
        "import findspark\n",
        "\n",
        "findspark.init()"
      ]
    },
    {
      "cell_type": "code",
      "source": [
        "# Acessando o Spark UI (Google colab)\n",
        "from pyspark.sql import SparkSession\n",
        "\n",
        "spark = SparkSession.builder \\\n",
        "  .master('local[*]') \\\n",
        "  .appName(\"Iniciando com Spark\") \\\n",
        "  .config('spark.ui.port', '4050') \\\n",
        "  .getOrCreate()"
      ],
      "metadata": {
        "id": "Hs34MEmxYYZ2"
      },
      "execution_count": 3,
      "outputs": []
    },
    {
      "cell_type": "code",
      "source": [
        "# ngrok\n",
        "# !pip install pyngrok\n",
        "!wget -q https://bin.equinox.io/c/4VmDzA7iaHb/ngrok-stable-linux-amd64.zip\n",
        "!unzip ngrok-stable-linux-amd64.zip\n",
        "\n",
        "get_ipython().system_raw('./ngrok authtoken 2LeJdoEHQYMMY2AMgZlN6nJSYLP_4GQCaPyW1ybDAbiYX1uE8')\n",
        "get_ipython().system_raw('./ngrok http 4050 &')"
      ],
      "metadata": {
        "id": "3BJeq4EsYY66"
      },
      "execution_count": null,
      "outputs": []
    },
    {
      "cell_type": "code",
      "source": [
        "!curl -s http://localhost:4040/api/tunnels"
      ],
      "metadata": {
        "colab": {
          "base_uri": "https://localhost:8080/"
        },
        "id": "leDjbpJ4YY9h",
        "outputId": "aef1930a-ece0-4d38-cb09-2a83437f6873"
      },
      "execution_count": 46,
      "outputs": [
        {
          "output_type": "stream",
          "name": "stdout",
          "text": [
            "{\"tunnels\":[{\"name\":\"command_line\",\"uri\":\"/api/tunnels/command_line\",\"public_url\":\"https://3908-35-184-68-153.ngrok.io\",\"proto\":\"https\",\"config\":{\"addr\":\"http://localhost:4050\",\"inspect\":true},\"metrics\":{\"conns\":{\"count\":0,\"gauge\":0,\"rate1\":0,\"rate5\":0,\"rate15\":0,\"p50\":0,\"p90\":0,\"p95\":0,\"p99\":0},\"http\":{\"count\":0,\"rate1\":0,\"rate5\":0,\"rate15\":0,\"p50\":0,\"p90\":0,\"p95\":0,\"p99\":0}}},{\"name\":\"command_line (http)\",\"uri\":\"/api/tunnels/command_line%20%28http%29\",\"public_url\":\"http://3908-35-184-68-153.ngrok.io\",\"proto\":\"http\",\"config\":{\"addr\":\"http://localhost:4050\",\"inspect\":true},\"metrics\":{\"conns\":{\"count\":0,\"gauge\":0,\"rate1\":0,\"rate5\":0,\"rate15\":0,\"p50\":0,\"p90\":0,\"p95\":0,\"p99\":0},\"http\":{\"count\":0,\"rate1\":0,\"rate5\":0,\"rate15\":0,\"p50\":0,\"p90\":0,\"p95\":0,\"p99\":0}}}],\"uri\":\"/api/tunnels\"}\n"
          ]
        }
      ]
    },
    {
      "cell_type": "code",
      "source": [
        "# montando o drive\n",
        "from google.colab import drive\n",
        "drive.mount('/content/drive')\n"
      ],
      "metadata": {
        "id": "bko8dmd1YhqB"
      },
      "execution_count": null,
      "outputs": []
    },
    {
      "cell_type": "markdown",
      "source": [
        "#### Carregando os dados"
      ],
      "metadata": {
        "id": "sn6JI6bug3oa"
      }
    },
    {
      "cell_type": "code",
      "source": [
        "# carregando os dados\n",
        "import zipfile"
      ],
      "metadata": {
        "id": "Gip4h_GbapID"
      },
      "execution_count": 7,
      "outputs": []
    },
    {
      "cell_type": "code",
      "source": [
        "# extraindo arquivos empresas.zip\n",
        "zipfile.ZipFile('/content/drive/MyDrive/Colab Notebooks/spark/empresas.zip', 'r').extractall('/content/drive/MyDrive/Colab Notebooks/spark/arquivos-projeto')\n",
        "# lendo os dados\n",
        "path = '/content/drive/MyDrive/Colab Notebooks/spark/arquivos-projeto/empresas'\n",
        "empresas = spark.read.csv(path, sep=';', inferSchema=True)\n",
        "# verificando quantos registros há no arquivo\n",
        "empresas.count()"
      ],
      "metadata": {
        "id": "X_Y2IXtyduP5"
      },
      "execution_count": 9,
      "outputs": []
    },
    {
      "cell_type": "code",
      "source": [
        "# extraindo e lendo arquivos estabelecimento.zip\n",
        "zipfile.ZipFile('/content/drive/MyDrive/Colab Notebooks/spark/estabelecimentos (1).zip', 'r').extractall('/content/drive/MyDrive/Colab Notebooks/spark/arquivos-projeto')\n",
        "path_estab = '/content/drive/MyDrive/Colab Notebooks/spark/arquivos-projeto/estabelecimentos'\n",
        "estab = spark.read.csv(path_estab, sep=';', inferSchema=True)\n",
        "estab.count()"
      ],
      "metadata": {
        "colab": {
          "base_uri": "https://localhost:8080/"
        },
        "id": "Cn_5xeq-YZFD",
        "outputId": "4767ce5b-7b71-44b5-c7fe-59c145a5bc82"
      },
      "execution_count": 11,
      "outputs": [
        {
          "output_type": "execute_result",
          "data": {
            "text/plain": [
              "4836219"
            ]
          },
          "metadata": {},
          "execution_count": 11
        }
      ]
    },
    {
      "cell_type": "code",
      "source": [
        "# extraindo e lendo arquivos socios.zip\n",
        "zipfile.ZipFile('/content/drive/MyDrive/Colab Notebooks/spark/socios.zip', 'r').extractall('/content/drive/MyDrive/Colab Notebooks/spark/arquivos-projeto')\n",
        "path_socios = '/content/drive/MyDrive/Colab Notebooks/spark/arquivos-projeto/socios'\n",
        "socios = spark.read.csv(path_socios, sep=';', inferSchema=True)\n",
        "socios.count()"
      ],
      "metadata": {
        "colab": {
          "base_uri": "https://localhost:8080/"
        },
        "id": "zUmw-wPDdVLP",
        "outputId": "10a5d74f-fab8-47e3-a07e-bc5625c18eae"
      },
      "execution_count": 12,
      "outputs": [
        {
          "output_type": "execute_result",
          "data": {
            "text/plain": [
              "2046430"
            ]
          },
          "metadata": {},
          "execution_count": 12
        }
      ]
    },
    {
      "cell_type": "markdown",
      "source": [
        "#### Manipulando e analisando os dados \n",
        "DataTypes Spark (https://spark.apache.org/docs/latest/api/python/reference/pyspark.sql/data_types.html"
      ],
      "metadata": {
        "id": "o9nn3pO5g-JC"
      }
    },
    {
      "cell_type": "code",
      "source": [
        "# renomeando as colunas\n",
        "empresasColNames = ['cnpj_basico', 'razao_social_nome_empresarial', 'natureza_juridica', 'qualificacao_do_responsavel', 'capital_social_da_empresa', 'porte_da_empresa', 'ente_federativo_responsavel']\n",
        "estabsColNames = ['cnpj_basico', 'cnpj_ordem', 'cnpj_dv', 'identificador_matriz_filial', 'nome_fantasia', 'situacao_cadastral', 'data_situacao_cadastral', 'motivo_situacao_cadastral', 'nome_da_cidade_no_exterior', 'pais', 'data_de_inicio_atividade', 'cnae_fiscal_principal', 'cnae_fiscal_secundaria', 'tipo_de_logradouro', 'logradouro', 'numero', 'complemento', 'bairro', 'cep', 'uf', 'municipio', 'ddd_1', 'telefone_1', 'ddd_2', 'telefone_2', 'ddd_do_fax', 'fax', 'correio_eletronico', 'situacao_especial', 'data_da_situação_especial']\n",
        "sociosColNames = ['cnpj_basico', 'identificador_de_socio', 'nome_do_socio_ou_razao_social', 'cnpj_ou_cpf_do_socio', 'qualificacao_do_socio', 'data_de_entrada_sociedade', 'pais', 'representante_legal', 'nome_do_representante', 'qualificacao_do_representante_legal', 'faixa_etaria']"
      ],
      "metadata": {
        "id": "wRc_uJ-PhaBp"
      },
      "execution_count": 13,
      "outputs": []
    },
    {
      "cell_type": "code",
      "source": [
        "# retornando as tuplas com os indices das colunas\n",
        "for index, colName in enumerate(empresasColNames):\n",
        "  empresas = empresas.withColumnRenamed(f\"_c{index}\", colName)\n",
        "empresas.columns\n",
        "empresas.limit(3).toPandas()"
      ],
      "metadata": {
        "id": "M3z3HEiQhaNW"
      },
      "execution_count": null,
      "outputs": []
    },
    {
      "cell_type": "code",
      "source": [
        "# retornando as tuplas com os indices das colunas (estabelecimento)\n",
        "for index, colName in enumerate(estabsColNames):\n",
        "  estab = estab.withColumnRenamed(f\"_c{index}\", colName)\n",
        "\n",
        "estab.columns\n",
        "estab.limit(3).toPandas()"
      ],
      "metadata": {
        "id": "o0k8D2L1lHfJ"
      },
      "execution_count": null,
      "outputs": []
    },
    {
      "cell_type": "code",
      "source": [
        "# retornando as tuplas com os indices das colunas (socios)\n",
        "for index, colName in enumerate(sociosColNames):\n",
        "  socios = socios.withColumnRenamed(f\"_c{index}\", colName)\n",
        "\n",
        "socios.columns\n",
        "socios.limit(3).toPandas()\n"
      ],
      "metadata": {
        "id": "MKLLcW1Nlsyg"
      },
      "execution_count": null,
      "outputs": []
    },
    {
      "cell_type": "code",
      "source": [
        "# verificando os tipos de coluna do datafram\n",
        "#empresas.printSchema()\n",
        "#estab.printSchema()\n",
        "#socios.printSchema()"
      ],
      "metadata": {
        "id": "8Mb3cnHrhnWk"
      },
      "execution_count": null,
      "outputs": []
    },
    {
      "cell_type": "markdown",
      "source": [
        "#### Convertendo String ➝ Double e String ➝ Date\n",
        "`StringType ➝ DoubleType`\n",
        "\n",
        "`StringType ➝ Date`\n"
      ],
      "metadata": {
        "id": "39sxbKIOqfnw"
      }
    },
    {
      "cell_type": "code",
      "source": [
        "from pyspark.sql.types import DoubleType, StringType\n",
        "from pyspark.sql import functions as f"
      ],
      "metadata": {
        "id": "tJlxRB1AhaQv"
      },
      "execution_count": 20,
      "outputs": []
    },
    {
      "cell_type": "code",
      "source": [
        "empresas.limit(3).toPandas()"
      ],
      "metadata": {
        "id": "YZaIjMN8rE-l"
      },
      "execution_count": null,
      "outputs": []
    },
    {
      "cell_type": "code",
      "source": [
        "# substituindo a virgula pelo ponto\n",
        "empresas = empresas.withColumn('capital_social_da_empresa', f.regexp_replace('capital_social_da_empresa', ',', '.'))\n",
        "empresas.limit(3).toPandas()"
      ],
      "metadata": {
        "id": "HlbvQJd0rFDR"
      },
      "execution_count": null,
      "outputs": []
    },
    {
      "cell_type": "code",
      "source": [
        "# alterando o tipo de dados de uma columa\n",
        "empresas = empresas.withColumn('capital_social_da_empresa', empresas['capital_social_da_empresa'].cast(DoubleType()))\n",
        "empresas.printSchema()"
      ],
      "metadata": {
        "id": "UMrExrf3rFHM"
      },
      "execution_count": null,
      "outputs": []
    },
    {
      "cell_type": "code",
      "source": [
        "#estab.printSchema()"
      ],
      "metadata": {
        "id": "oC2c4aKyw1im"
      },
      "execution_count": null,
      "outputs": []
    },
    {
      "cell_type": "code",
      "source": [
        "# convertendo String para date (estabelecimentos)\n",
        "estab = estab \\\n",
        "  .withColumn(\n",
        "      \"data_situacao_cadastral\", \n",
        "      f.to_date(estab.data_situacao_cadastral.cast(StringType()), 'yyyyMMdd')\n",
        "    )\\\n",
        "    .withColumn(\n",
        "      \"data_de_inicio_atividade\",\n",
        "      f.to_date(estab.data_de_inicio_atividade.cast(StringType()), 'yyyyMMdd')\n",
        "        \n",
        "    )\\\n",
        "    .withColumn(\n",
        "      \"data_da_situação_especial\",\n",
        "      f.to_date(estab.data_da_situação_especial.cast(StringType()), 'yyyyMMdd')\n",
        "        \n",
        "    ) \n",
        "estab.printSchema()"
      ],
      "metadata": {
        "id": "yOjVy4aYrFK1"
      },
      "execution_count": null,
      "outputs": []
    },
    {
      "cell_type": "code",
      "source": [
        "estab.limit(3).toPandas()"
      ],
      "metadata": {
        "id": "PK6PogArhaUY"
      },
      "execution_count": null,
      "outputs": []
    },
    {
      "cell_type": "code",
      "source": [
        "socios.printSchema()\n",
        "socios.limit(3).toPandas()"
      ],
      "metadata": {
        "id": "tYjISa4a6My0"
      },
      "execution_count": null,
      "outputs": []
    },
    {
      "cell_type": "code",
      "source": [
        "# convertendo String para date (socios)\n",
        "socios = socios \\\n",
        "  .withColumn(\n",
        "      \"data_de_entrada_sociedade\", \n",
        "      f.to_date(socios.data_de_entrada_sociedade.cast(StringType()), 'yyyyMMdd')\n",
        "    )\n",
        "socios.printSchema()"
      ],
      "metadata": {
        "id": "oAr-Wxdy6TAa"
      },
      "execution_count": null,
      "outputs": []
    },
    {
      "cell_type": "markdown",
      "source": [
        "## Seleções e consultas"
      ],
      "metadata": {
        "id": "4TNE5lvb7VGx"
      }
    },
    {
      "cell_type": "markdown",
      "source": [
        "#### Selecionando informações\n",
        "\n",
        "Saprk sql (https://spark.apache.org/docs/3.1.2/api/python/reference/pyspark.sql.html#functions"
      ],
      "metadata": {
        "id": "-uyhezRP7b-d"
      }
    },
    {
      "cell_type": "code",
      "source": [
        "# select * from\n",
        "empresas\\\n",
        "  .select('*') \\\n",
        "  .show(5, False)"
      ],
      "metadata": {
        "id": "ne70zu0F6TId"
      },
      "execution_count": null,
      "outputs": []
    },
    {
      "cell_type": "code",
      "source": [
        "# selecionando colunas especificas\n",
        "empresas \\\n",
        "  .select('natureza_juridica', 'porte_da_empresa', 'capital_social_da_empresa') \\\n",
        "  .show(5)"
      ],
      "metadata": {
        "id": "uN3LDAdG6TM6"
      },
      "execution_count": null,
      "outputs": []
    },
    {
      "cell_type": "code",
      "source": [
        "socios\\\n",
        "  .select('nome_do_socio_ou_razao_social', 'faixa_etaria',\n",
        "          f.year('data_de_entrada_sociedade'). alias('ano_de_entrada')) \\\n",
        "  .show(5, False)"
      ],
      "metadata": {
        "id": "n7ryCOLe8cAH"
      },
      "execution_count": null,
      "outputs": []
    },
    {
      "cell_type": "code",
      "source": [
        "estab\\\n",
        "  .select('nome_fantasia', 'municipio',\n",
        "          f.year('data_de_inicio_atividade').alias('ano_de_inicio_atividade'),\n",
        "          f.month('data_de_inicio_atividade').alias('mes_de_inicio_atividade'))\\\n",
        "  .show(5, False)"
      ],
      "metadata": {
        "id": "kz_qzVLk8b7a"
      },
      "execution_count": null,
      "outputs": []
    },
    {
      "cell_type": "markdown",
      "source": [
        "### Identificando valores nulos"
      ],
      "metadata": {
        "id": "2e6U54_J_wOm"
      }
    },
    {
      "cell_type": "code",
      "source": [
        "socios.limit(3).toPandas() # ou\n",
        "socios.limit(3).show()"
      ],
      "metadata": {
        "colab": {
          "base_uri": "https://localhost:8080/"
        },
        "id": "Av7AxIul8b1b",
        "outputId": "aebc5eff-aee9-463b-e2a6-f0d83d0935f3"
      },
      "execution_count": 34,
      "outputs": [
        {
          "output_type": "stream",
          "name": "stdout",
          "text": [
            "+-----------+----------------------+-----------------------------+--------------------+---------------------+-------------------------+----+-------------------+---------------------+-----------------------------------+------------+\n",
            "|cnpj_basico|identificador_de_socio|nome_do_socio_ou_razao_social|cnpj_ou_cpf_do_socio|qualificacao_do_socio|data_de_entrada_sociedade|pais|representante_legal|nome_do_representante|qualificacao_do_representante_legal|faixa_etaria|\n",
            "+-----------+----------------------+-----------------------------+--------------------+---------------------+-------------------------+----+-------------------+---------------------+-----------------------------------+------------+\n",
            "|        411|                     2|         LILIANA PATRICIA ...|         ***678188**|                   22|               1994-07-25|null|        ***000000**|                 null|                                  0|           7|\n",
            "|        411|                     2|         CRISTINA HUNDERTMARK|         ***637848**|                   28|               1994-07-25|null|        ***000000**|                 null|                                  0|           7|\n",
            "|       5813|                     2|         CELSO EDUARDO DE ...|         ***786068**|                   49|               1994-05-16|null|        ***000000**|                 null|                                  0|           8|\n",
            "+-----------+----------------------+-----------------------------+--------------------+---------------------+-------------------------+----+-------------------+---------------------+-----------------------------------+------------+\n",
            "\n"
          ]
        }
      ]
    },
    {
      "cell_type": "code",
      "source": [
        "# contagem dos valores nulos\n",
        "socios \\\n",
        "  .select([f.count(f.when(f.isnull(c), 1)) \\\n",
        "  .alias(c) \\\n",
        "  for c in socios.columns]).show()"
      ],
      "metadata": {
        "colab": {
          "base_uri": "https://localhost:8080/"
        },
        "id": "iU3rbEFdmI2O",
        "outputId": "a62ebc59-7c63-41ee-ec78-2dfabd609fa9"
      },
      "execution_count": 35,
      "outputs": [
        {
          "output_type": "stream",
          "name": "stdout",
          "text": [
            "+-----------+----------------------+-----------------------------+--------------------+---------------------+-------------------------+-------+-------------------+---------------------+-----------------------------------+------------+\n",
            "|cnpj_basico|identificador_de_socio|nome_do_socio_ou_razao_social|cnpj_ou_cpf_do_socio|qualificacao_do_socio|data_de_entrada_sociedade|   pais|representante_legal|nome_do_representante|qualificacao_do_representante_legal|faixa_etaria|\n",
            "+-----------+----------------------+-----------------------------+--------------------+---------------------+-------------------------+-------+-------------------+---------------------+-----------------------------------+------------+\n",
            "|          0|                     0|                          208|                1234|                    0|                        1|2038255|                  0|              1995432|                                  0|           0|\n",
            "+-----------+----------------------+-----------------------------+--------------------+---------------------+-------------------------+-------+-------------------+---------------------+-----------------------------------+------------+\n",
            "\n"
          ]
        }
      ]
    },
    {
      "cell_type": "code",
      "source": [
        "#substituindo os valores\n",
        "socios.na.fill(0).limit(3).toPandas() # ao encontrar um valor nulo, substitui por 0 se for do tipo inteiro"
      ],
      "metadata": {
        "colab": {
          "base_uri": "https://localhost:8080/",
          "height": 0
        },
        "id": "Vd4Bqj_lmIy2",
        "outputId": "2dd381f4-7743-42ba-e6ff-b5f9a145c25c"
      },
      "execution_count": 36,
      "outputs": [
        {
          "output_type": "execute_result",
          "data": {
            "text/plain": [
              "   cnpj_basico  identificador_de_socio    nome_do_socio_ou_razao_social  \\\n",
              "0          411                       2      LILIANA PATRICIA GUASTAVINO   \n",
              "1          411                       2             CRISTINA HUNDERTMARK   \n",
              "2         5813                       2  CELSO EDUARDO DE CASTRO STEPHAN   \n",
              "\n",
              "  cnpj_ou_cpf_do_socio  qualificacao_do_socio data_de_entrada_sociedade  pais  \\\n",
              "0          ***678188**                     22                1994-07-25     0   \n",
              "1          ***637848**                     28                1994-07-25     0   \n",
              "2          ***786068**                     49                1994-05-16     0   \n",
              "\n",
              "  representante_legal nome_do_representante  \\\n",
              "0         ***000000**                  None   \n",
              "1         ***000000**                  None   \n",
              "2         ***000000**                  None   \n",
              "\n",
              "   qualificacao_do_representante_legal  faixa_etaria  \n",
              "0                                    0             7  \n",
              "1                                    0             7  \n",
              "2                                    0             8  "
            ],
            "text/html": [
              "\n",
              "  <div id=\"df-fd10aa0e-f02f-4701-b345-1a1c7290fa3c\">\n",
              "    <div class=\"colab-df-container\">\n",
              "      <div>\n",
              "<style scoped>\n",
              "    .dataframe tbody tr th:only-of-type {\n",
              "        vertical-align: middle;\n",
              "    }\n",
              "\n",
              "    .dataframe tbody tr th {\n",
              "        vertical-align: top;\n",
              "    }\n",
              "\n",
              "    .dataframe thead th {\n",
              "        text-align: right;\n",
              "    }\n",
              "</style>\n",
              "<table border=\"1\" class=\"dataframe\">\n",
              "  <thead>\n",
              "    <tr style=\"text-align: right;\">\n",
              "      <th></th>\n",
              "      <th>cnpj_basico</th>\n",
              "      <th>identificador_de_socio</th>\n",
              "      <th>nome_do_socio_ou_razao_social</th>\n",
              "      <th>cnpj_ou_cpf_do_socio</th>\n",
              "      <th>qualificacao_do_socio</th>\n",
              "      <th>data_de_entrada_sociedade</th>\n",
              "      <th>pais</th>\n",
              "      <th>representante_legal</th>\n",
              "      <th>nome_do_representante</th>\n",
              "      <th>qualificacao_do_representante_legal</th>\n",
              "      <th>faixa_etaria</th>\n",
              "    </tr>\n",
              "  </thead>\n",
              "  <tbody>\n",
              "    <tr>\n",
              "      <th>0</th>\n",
              "      <td>411</td>\n",
              "      <td>2</td>\n",
              "      <td>LILIANA PATRICIA GUASTAVINO</td>\n",
              "      <td>***678188**</td>\n",
              "      <td>22</td>\n",
              "      <td>1994-07-25</td>\n",
              "      <td>0</td>\n",
              "      <td>***000000**</td>\n",
              "      <td>None</td>\n",
              "      <td>0</td>\n",
              "      <td>7</td>\n",
              "    </tr>\n",
              "    <tr>\n",
              "      <th>1</th>\n",
              "      <td>411</td>\n",
              "      <td>2</td>\n",
              "      <td>CRISTINA HUNDERTMARK</td>\n",
              "      <td>***637848**</td>\n",
              "      <td>28</td>\n",
              "      <td>1994-07-25</td>\n",
              "      <td>0</td>\n",
              "      <td>***000000**</td>\n",
              "      <td>None</td>\n",
              "      <td>0</td>\n",
              "      <td>7</td>\n",
              "    </tr>\n",
              "    <tr>\n",
              "      <th>2</th>\n",
              "      <td>5813</td>\n",
              "      <td>2</td>\n",
              "      <td>CELSO EDUARDO DE CASTRO STEPHAN</td>\n",
              "      <td>***786068**</td>\n",
              "      <td>49</td>\n",
              "      <td>1994-05-16</td>\n",
              "      <td>0</td>\n",
              "      <td>***000000**</td>\n",
              "      <td>None</td>\n",
              "      <td>0</td>\n",
              "      <td>8</td>\n",
              "    </tr>\n",
              "  </tbody>\n",
              "</table>\n",
              "</div>\n",
              "      <button class=\"colab-df-convert\" onclick=\"convertToInteractive('df-fd10aa0e-f02f-4701-b345-1a1c7290fa3c')\"\n",
              "              title=\"Convert this dataframe to an interactive table.\"\n",
              "              style=\"display:none;\">\n",
              "        \n",
              "  <svg xmlns=\"http://www.w3.org/2000/svg\" height=\"24px\"viewBox=\"0 0 24 24\"\n",
              "       width=\"24px\">\n",
              "    <path d=\"M0 0h24v24H0V0z\" fill=\"none\"/>\n",
              "    <path d=\"M18.56 5.44l.94 2.06.94-2.06 2.06-.94-2.06-.94-.94-2.06-.94 2.06-2.06.94zm-11 1L8.5 8.5l.94-2.06 2.06-.94-2.06-.94L8.5 2.5l-.94 2.06-2.06.94zm10 10l.94 2.06.94-2.06 2.06-.94-2.06-.94-.94-2.06-.94 2.06-2.06.94z\"/><path d=\"M17.41 7.96l-1.37-1.37c-.4-.4-.92-.59-1.43-.59-.52 0-1.04.2-1.43.59L10.3 9.45l-7.72 7.72c-.78.78-.78 2.05 0 2.83L4 21.41c.39.39.9.59 1.41.59.51 0 1.02-.2 1.41-.59l7.78-7.78 2.81-2.81c.8-.78.8-2.07 0-2.86zM5.41 20L4 18.59l7.72-7.72 1.47 1.35L5.41 20z\"/>\n",
              "  </svg>\n",
              "      </button>\n",
              "      \n",
              "  <style>\n",
              "    .colab-df-container {\n",
              "      display:flex;\n",
              "      flex-wrap:wrap;\n",
              "      gap: 12px;\n",
              "    }\n",
              "\n",
              "    .colab-df-convert {\n",
              "      background-color: #E8F0FE;\n",
              "      border: none;\n",
              "      border-radius: 50%;\n",
              "      cursor: pointer;\n",
              "      display: none;\n",
              "      fill: #1967D2;\n",
              "      height: 32px;\n",
              "      padding: 0 0 0 0;\n",
              "      width: 32px;\n",
              "    }\n",
              "\n",
              "    .colab-df-convert:hover {\n",
              "      background-color: #E2EBFA;\n",
              "      box-shadow: 0px 1px 2px rgba(60, 64, 67, 0.3), 0px 1px 3px 1px rgba(60, 64, 67, 0.15);\n",
              "      fill: #174EA6;\n",
              "    }\n",
              "\n",
              "    [theme=dark] .colab-df-convert {\n",
              "      background-color: #3B4455;\n",
              "      fill: #D2E3FC;\n",
              "    }\n",
              "\n",
              "    [theme=dark] .colab-df-convert:hover {\n",
              "      background-color: #434B5C;\n",
              "      box-shadow: 0px 1px 3px 1px rgba(0, 0, 0, 0.15);\n",
              "      filter: drop-shadow(0px 1px 2px rgba(0, 0, 0, 0.3));\n",
              "      fill: #FFFFFF;\n",
              "    }\n",
              "  </style>\n",
              "\n",
              "      <script>\n",
              "        const buttonEl =\n",
              "          document.querySelector('#df-fd10aa0e-f02f-4701-b345-1a1c7290fa3c button.colab-df-convert');\n",
              "        buttonEl.style.display =\n",
              "          google.colab.kernel.accessAllowed ? 'block' : 'none';\n",
              "\n",
              "        async function convertToInteractive(key) {\n",
              "          const element = document.querySelector('#df-fd10aa0e-f02f-4701-b345-1a1c7290fa3c');\n",
              "          const dataTable =\n",
              "            await google.colab.kernel.invokeFunction('convertToInteractive',\n",
              "                                                     [key], {});\n",
              "          if (!dataTable) return;\n",
              "\n",
              "          const docLinkHtml = 'Like what you see? Visit the ' +\n",
              "            '<a target=\"_blank\" href=https://colab.research.google.com/notebooks/data_table.ipynb>data table notebook</a>'\n",
              "            + ' to learn more about interactive tables.';\n",
              "          element.innerHTML = '';\n",
              "          dataTable['output_type'] = 'display_data';\n",
              "          await google.colab.output.renderOutput(dataTable, element);\n",
              "          const docLink = document.createElement('div');\n",
              "          docLink.innerHTML = docLinkHtml;\n",
              "          element.appendChild(docLink);\n",
              "        }\n",
              "      </script>\n",
              "    </div>\n",
              "  </div>\n",
              "  "
            ]
          },
          "metadata": {},
          "execution_count": 36
        }
      ]
    },
    {
      "cell_type": "code",
      "source": [
        "socios.na.fill(\"-\").limit(3).toPandas()  # ao encontrar um valor nulo, substitui por - se for do tipo string"
      ],
      "metadata": {
        "colab": {
          "base_uri": "https://localhost:8080/",
          "height": 0
        },
        "id": "_e5jRP5ImIvf",
        "outputId": "4a492d63-7848-4787-8445-f68821ea204b"
      },
      "execution_count": 37,
      "outputs": [
        {
          "output_type": "execute_result",
          "data": {
            "text/plain": [
              "   cnpj_basico  identificador_de_socio    nome_do_socio_ou_razao_social  \\\n",
              "0          411                       2      LILIANA PATRICIA GUASTAVINO   \n",
              "1          411                       2             CRISTINA HUNDERTMARK   \n",
              "2         5813                       2  CELSO EDUARDO DE CASTRO STEPHAN   \n",
              "\n",
              "  cnpj_ou_cpf_do_socio  qualificacao_do_socio data_de_entrada_sociedade  pais  \\\n",
              "0          ***678188**                     22                1994-07-25   NaN   \n",
              "1          ***637848**                     28                1994-07-25   NaN   \n",
              "2          ***786068**                     49                1994-05-16   NaN   \n",
              "\n",
              "  representante_legal nome_do_representante  \\\n",
              "0         ***000000**                     -   \n",
              "1         ***000000**                     -   \n",
              "2         ***000000**                     -   \n",
              "\n",
              "   qualificacao_do_representante_legal  faixa_etaria  \n",
              "0                                    0             7  \n",
              "1                                    0             7  \n",
              "2                                    0             8  "
            ],
            "text/html": [
              "\n",
              "  <div id=\"df-d8a91470-357d-40e7-9c2a-761e948932cb\">\n",
              "    <div class=\"colab-df-container\">\n",
              "      <div>\n",
              "<style scoped>\n",
              "    .dataframe tbody tr th:only-of-type {\n",
              "        vertical-align: middle;\n",
              "    }\n",
              "\n",
              "    .dataframe tbody tr th {\n",
              "        vertical-align: top;\n",
              "    }\n",
              "\n",
              "    .dataframe thead th {\n",
              "        text-align: right;\n",
              "    }\n",
              "</style>\n",
              "<table border=\"1\" class=\"dataframe\">\n",
              "  <thead>\n",
              "    <tr style=\"text-align: right;\">\n",
              "      <th></th>\n",
              "      <th>cnpj_basico</th>\n",
              "      <th>identificador_de_socio</th>\n",
              "      <th>nome_do_socio_ou_razao_social</th>\n",
              "      <th>cnpj_ou_cpf_do_socio</th>\n",
              "      <th>qualificacao_do_socio</th>\n",
              "      <th>data_de_entrada_sociedade</th>\n",
              "      <th>pais</th>\n",
              "      <th>representante_legal</th>\n",
              "      <th>nome_do_representante</th>\n",
              "      <th>qualificacao_do_representante_legal</th>\n",
              "      <th>faixa_etaria</th>\n",
              "    </tr>\n",
              "  </thead>\n",
              "  <tbody>\n",
              "    <tr>\n",
              "      <th>0</th>\n",
              "      <td>411</td>\n",
              "      <td>2</td>\n",
              "      <td>LILIANA PATRICIA GUASTAVINO</td>\n",
              "      <td>***678188**</td>\n",
              "      <td>22</td>\n",
              "      <td>1994-07-25</td>\n",
              "      <td>NaN</td>\n",
              "      <td>***000000**</td>\n",
              "      <td>-</td>\n",
              "      <td>0</td>\n",
              "      <td>7</td>\n",
              "    </tr>\n",
              "    <tr>\n",
              "      <th>1</th>\n",
              "      <td>411</td>\n",
              "      <td>2</td>\n",
              "      <td>CRISTINA HUNDERTMARK</td>\n",
              "      <td>***637848**</td>\n",
              "      <td>28</td>\n",
              "      <td>1994-07-25</td>\n",
              "      <td>NaN</td>\n",
              "      <td>***000000**</td>\n",
              "      <td>-</td>\n",
              "      <td>0</td>\n",
              "      <td>7</td>\n",
              "    </tr>\n",
              "    <tr>\n",
              "      <th>2</th>\n",
              "      <td>5813</td>\n",
              "      <td>2</td>\n",
              "      <td>CELSO EDUARDO DE CASTRO STEPHAN</td>\n",
              "      <td>***786068**</td>\n",
              "      <td>49</td>\n",
              "      <td>1994-05-16</td>\n",
              "      <td>NaN</td>\n",
              "      <td>***000000**</td>\n",
              "      <td>-</td>\n",
              "      <td>0</td>\n",
              "      <td>8</td>\n",
              "    </tr>\n",
              "  </tbody>\n",
              "</table>\n",
              "</div>\n",
              "      <button class=\"colab-df-convert\" onclick=\"convertToInteractive('df-d8a91470-357d-40e7-9c2a-761e948932cb')\"\n",
              "              title=\"Convert this dataframe to an interactive table.\"\n",
              "              style=\"display:none;\">\n",
              "        \n",
              "  <svg xmlns=\"http://www.w3.org/2000/svg\" height=\"24px\"viewBox=\"0 0 24 24\"\n",
              "       width=\"24px\">\n",
              "    <path d=\"M0 0h24v24H0V0z\" fill=\"none\"/>\n",
              "    <path d=\"M18.56 5.44l.94 2.06.94-2.06 2.06-.94-2.06-.94-.94-2.06-.94 2.06-2.06.94zm-11 1L8.5 8.5l.94-2.06 2.06-.94-2.06-.94L8.5 2.5l-.94 2.06-2.06.94zm10 10l.94 2.06.94-2.06 2.06-.94-2.06-.94-.94-2.06-.94 2.06-2.06.94z\"/><path d=\"M17.41 7.96l-1.37-1.37c-.4-.4-.92-.59-1.43-.59-.52 0-1.04.2-1.43.59L10.3 9.45l-7.72 7.72c-.78.78-.78 2.05 0 2.83L4 21.41c.39.39.9.59 1.41.59.51 0 1.02-.2 1.41-.59l7.78-7.78 2.81-2.81c.8-.78.8-2.07 0-2.86zM5.41 20L4 18.59l7.72-7.72 1.47 1.35L5.41 20z\"/>\n",
              "  </svg>\n",
              "      </button>\n",
              "      \n",
              "  <style>\n",
              "    .colab-df-container {\n",
              "      display:flex;\n",
              "      flex-wrap:wrap;\n",
              "      gap: 12px;\n",
              "    }\n",
              "\n",
              "    .colab-df-convert {\n",
              "      background-color: #E8F0FE;\n",
              "      border: none;\n",
              "      border-radius: 50%;\n",
              "      cursor: pointer;\n",
              "      display: none;\n",
              "      fill: #1967D2;\n",
              "      height: 32px;\n",
              "      padding: 0 0 0 0;\n",
              "      width: 32px;\n",
              "    }\n",
              "\n",
              "    .colab-df-convert:hover {\n",
              "      background-color: #E2EBFA;\n",
              "      box-shadow: 0px 1px 2px rgba(60, 64, 67, 0.3), 0px 1px 3px 1px rgba(60, 64, 67, 0.15);\n",
              "      fill: #174EA6;\n",
              "    }\n",
              "\n",
              "    [theme=dark] .colab-df-convert {\n",
              "      background-color: #3B4455;\n",
              "      fill: #D2E3FC;\n",
              "    }\n",
              "\n",
              "    [theme=dark] .colab-df-convert:hover {\n",
              "      background-color: #434B5C;\n",
              "      box-shadow: 0px 1px 3px 1px rgba(0, 0, 0, 0.15);\n",
              "      filter: drop-shadow(0px 1px 2px rgba(0, 0, 0, 0.3));\n",
              "      fill: #FFFFFF;\n",
              "    }\n",
              "  </style>\n",
              "\n",
              "      <script>\n",
              "        const buttonEl =\n",
              "          document.querySelector('#df-d8a91470-357d-40e7-9c2a-761e948932cb button.colab-df-convert');\n",
              "        buttonEl.style.display =\n",
              "          google.colab.kernel.accessAllowed ? 'block' : 'none';\n",
              "\n",
              "        async function convertToInteractive(key) {\n",
              "          const element = document.querySelector('#df-d8a91470-357d-40e7-9c2a-761e948932cb');\n",
              "          const dataTable =\n",
              "            await google.colab.kernel.invokeFunction('convertToInteractive',\n",
              "                                                     [key], {});\n",
              "          if (!dataTable) return;\n",
              "\n",
              "          const docLinkHtml = 'Like what you see? Visit the ' +\n",
              "            '<a target=\"_blank\" href=https://colab.research.google.com/notebooks/data_table.ipynb>data table notebook</a>'\n",
              "            + ' to learn more about interactive tables.';\n",
              "          element.innerHTML = '';\n",
              "          dataTable['output_type'] = 'display_data';\n",
              "          await google.colab.output.renderOutput(dataTable, element);\n",
              "          const docLink = document.createElement('div');\n",
              "          docLink.innerHTML = docLinkHtml;\n",
              "          element.appendChild(docLink);\n",
              "        }\n",
              "      </script>\n",
              "    </div>\n",
              "  </div>\n",
              "  "
            ]
          },
          "metadata": {},
          "execution_count": 37
        }
      ]
    },
    {
      "cell_type": "markdown",
      "source": [
        "### Ordenando dados"
      ],
      "metadata": {
        "id": "RwoRCNmcspIU"
      }
    },
    {
      "cell_type": "code",
      "source": [
        "socios \\\n",
        "  .select('nome_do_socio_ou_razao_social', 'faixa_etaria', f.year('data_de_entrada_sociedade').alias('ano_de_entrada')) \\\n",
        "  .show(5, False)"
      ],
      "metadata": {
        "id": "A6X6uap6mIry"
      },
      "execution_count": null,
      "outputs": []
    },
    {
      "cell_type": "code",
      "source": [
        "# ordenando pela data de entrada e faixa etaria (do maior para o menor) - duas colunas\n",
        "socios \\\n",
        "  .select('nome_do_socio_ou_razao_social', 'faixa_etaria', f.year('data_de_entrada_sociedade').alias('ano_de_entrada')) \\\n",
        "  .orderBy(['ano_de_entrada', 'faixa_etaria'], ascending=[False, False]) \\\n",
        "  .show(10, False)"
      ],
      "metadata": {
        "id": "mZ4BMRTItfW4"
      },
      "execution_count": null,
      "outputs": []
    },
    {
      "cell_type": "markdown",
      "source": [
        "### Filtrando dados"
      ],
      "metadata": {
        "id": "uP48_9lbvDMS"
      }
    },
    {
      "cell_type": "code",
      "source": [
        "empresas \\\n",
        "  .where(\"capital_social_da_empresa == 50\") \\\n",
        "  .show(5, False)"
      ],
      "metadata": {
        "id": "Fon1VeY7mIof",
        "colab": {
          "base_uri": "https://localhost:8080/"
        },
        "outputId": "944582e1-b30e-4010-c607-6c87d0fba23f"
      },
      "execution_count": 40,
      "outputs": [
        {
          "output_type": "stream",
          "name": "stdout",
          "text": [
            "+-----------+------------------------------------+-----------------+---------------------------+-------------------------+----------------+---------------------------+\n",
            "|cnpj_basico|razao_social_nome_empresarial       |natureza_juridica|qualificacao_do_responsavel|capital_social_da_empresa|porte_da_empresa|ente_federativo_responsavel|\n",
            "+-----------+------------------------------------+-----------------+---------------------------+-------------------------+----------------+---------------------------+\n",
            "|17350147   |ERIK MARCELO DOS SANTOS 42107848858 |2135             |50                         |50.0                     |1               |null                       |\n",
            "|17833214   |ALEXANDRE MACHADO LIMA 73750123772  |2135             |50                         |50.0                     |1               |null                       |\n",
            "|20860830   |YASMIN MOURA DA FONSECA 13457709793 |2135             |50                         |50.0                     |1               |null                       |\n",
            "|22242856   |JOAO CESAR MESSIAS 08707149883      |2135             |50                         |50.0                     |1               |null                       |\n",
            "|23238540   |EVERTON ROBERTO DA SILVA 42101963809|2135             |50                         |50.0                     |1               |null                       |\n",
            "+-----------+------------------------------------+-----------------+---------------------------+-------------------------+----------------+---------------------------+\n",
            "only showing top 5 rows\n",
            "\n"
          ]
        }
      ]
    },
    {
      "cell_type": "code",
      "source": [
        "# aninhando filtros (select não é obrigatório nos filtros)\n",
        "socios \\\n",
        "  .select(\"nome_do_socio_ou_razao_social\") \\\n",
        "  .filter(socios.nome_do_socio_ou_razao_social.startswith(\"RODRIGO\")) \\\n",
        "  .filter(socios.nome_do_socio_ou_razao_social.endswith(\"DIAS\")) \\\n",
        "  .limit(10) \\\n",
        "  .toPandas()\n",
        "  #.count() \\\n",
        "\n",
        "\n"
      ],
      "metadata": {
        "id": "7zwHF5K7mIjc",
        "colab": {
          "base_uri": "https://localhost:8080/",
          "height": 0
        },
        "outputId": "e85e37db-b3e6-4284-da1f-c28defa4af05"
      },
      "execution_count": 41,
      "outputs": [
        {
          "output_type": "execute_result",
          "data": {
            "text/plain": [
              "  nome_do_socio_ou_razao_social\n",
              "0          RODRIGO BENASSI DIAS\n",
              "1        RODRIGO RUDIBERTO DIAS\n",
              "2        RODRIGO AURELIANO DIAS\n",
              "3     RODRIGO SIMOES LEMOS DIAS\n",
              "4           RODRIGO GEORGE DIAS\n",
              "5  RODRIGO AUGUSTO FELICIO DIAS\n",
              "6        RODRIGO FERNANDES DIAS\n",
              "7          RODRIGO GARRIDO DIAS\n",
              "8         RODRIGO OLIVEIRA DIAS\n",
              "9        RODRIGO GONCALVES DIAS"
            ],
            "text/html": [
              "\n",
              "  <div id=\"df-e8b1b6b9-4c58-4cf2-9b90-ceaa381a57d9\">\n",
              "    <div class=\"colab-df-container\">\n",
              "      <div>\n",
              "<style scoped>\n",
              "    .dataframe tbody tr th:only-of-type {\n",
              "        vertical-align: middle;\n",
              "    }\n",
              "\n",
              "    .dataframe tbody tr th {\n",
              "        vertical-align: top;\n",
              "    }\n",
              "\n",
              "    .dataframe thead th {\n",
              "        text-align: right;\n",
              "    }\n",
              "</style>\n",
              "<table border=\"1\" class=\"dataframe\">\n",
              "  <thead>\n",
              "    <tr style=\"text-align: right;\">\n",
              "      <th></th>\n",
              "      <th>nome_do_socio_ou_razao_social</th>\n",
              "    </tr>\n",
              "  </thead>\n",
              "  <tbody>\n",
              "    <tr>\n",
              "      <th>0</th>\n",
              "      <td>RODRIGO BENASSI DIAS</td>\n",
              "    </tr>\n",
              "    <tr>\n",
              "      <th>1</th>\n",
              "      <td>RODRIGO RUDIBERTO DIAS</td>\n",
              "    </tr>\n",
              "    <tr>\n",
              "      <th>2</th>\n",
              "      <td>RODRIGO AURELIANO DIAS</td>\n",
              "    </tr>\n",
              "    <tr>\n",
              "      <th>3</th>\n",
              "      <td>RODRIGO SIMOES LEMOS DIAS</td>\n",
              "    </tr>\n",
              "    <tr>\n",
              "      <th>4</th>\n",
              "      <td>RODRIGO GEORGE DIAS</td>\n",
              "    </tr>\n",
              "    <tr>\n",
              "      <th>5</th>\n",
              "      <td>RODRIGO AUGUSTO FELICIO DIAS</td>\n",
              "    </tr>\n",
              "    <tr>\n",
              "      <th>6</th>\n",
              "      <td>RODRIGO FERNANDES DIAS</td>\n",
              "    </tr>\n",
              "    <tr>\n",
              "      <th>7</th>\n",
              "      <td>RODRIGO GARRIDO DIAS</td>\n",
              "    </tr>\n",
              "    <tr>\n",
              "      <th>8</th>\n",
              "      <td>RODRIGO OLIVEIRA DIAS</td>\n",
              "    </tr>\n",
              "    <tr>\n",
              "      <th>9</th>\n",
              "      <td>RODRIGO GONCALVES DIAS</td>\n",
              "    </tr>\n",
              "  </tbody>\n",
              "</table>\n",
              "</div>\n",
              "      <button class=\"colab-df-convert\" onclick=\"convertToInteractive('df-e8b1b6b9-4c58-4cf2-9b90-ceaa381a57d9')\"\n",
              "              title=\"Convert this dataframe to an interactive table.\"\n",
              "              style=\"display:none;\">\n",
              "        \n",
              "  <svg xmlns=\"http://www.w3.org/2000/svg\" height=\"24px\"viewBox=\"0 0 24 24\"\n",
              "       width=\"24px\">\n",
              "    <path d=\"M0 0h24v24H0V0z\" fill=\"none\"/>\n",
              "    <path d=\"M18.56 5.44l.94 2.06.94-2.06 2.06-.94-2.06-.94-.94-2.06-.94 2.06-2.06.94zm-11 1L8.5 8.5l.94-2.06 2.06-.94-2.06-.94L8.5 2.5l-.94 2.06-2.06.94zm10 10l.94 2.06.94-2.06 2.06-.94-2.06-.94-.94-2.06-.94 2.06-2.06.94z\"/><path d=\"M17.41 7.96l-1.37-1.37c-.4-.4-.92-.59-1.43-.59-.52 0-1.04.2-1.43.59L10.3 9.45l-7.72 7.72c-.78.78-.78 2.05 0 2.83L4 21.41c.39.39.9.59 1.41.59.51 0 1.02-.2 1.41-.59l7.78-7.78 2.81-2.81c.8-.78.8-2.07 0-2.86zM5.41 20L4 18.59l7.72-7.72 1.47 1.35L5.41 20z\"/>\n",
              "  </svg>\n",
              "      </button>\n",
              "      \n",
              "  <style>\n",
              "    .colab-df-container {\n",
              "      display:flex;\n",
              "      flex-wrap:wrap;\n",
              "      gap: 12px;\n",
              "    }\n",
              "\n",
              "    .colab-df-convert {\n",
              "      background-color: #E8F0FE;\n",
              "      border: none;\n",
              "      border-radius: 50%;\n",
              "      cursor: pointer;\n",
              "      display: none;\n",
              "      fill: #1967D2;\n",
              "      height: 32px;\n",
              "      padding: 0 0 0 0;\n",
              "      width: 32px;\n",
              "    }\n",
              "\n",
              "    .colab-df-convert:hover {\n",
              "      background-color: #E2EBFA;\n",
              "      box-shadow: 0px 1px 2px rgba(60, 64, 67, 0.3), 0px 1px 3px 1px rgba(60, 64, 67, 0.15);\n",
              "      fill: #174EA6;\n",
              "    }\n",
              "\n",
              "    [theme=dark] .colab-df-convert {\n",
              "      background-color: #3B4455;\n",
              "      fill: #D2E3FC;\n",
              "    }\n",
              "\n",
              "    [theme=dark] .colab-df-convert:hover {\n",
              "      background-color: #434B5C;\n",
              "      box-shadow: 0px 1px 3px 1px rgba(0, 0, 0, 0.15);\n",
              "      filter: drop-shadow(0px 1px 2px rgba(0, 0, 0, 0.3));\n",
              "      fill: #FFFFFF;\n",
              "    }\n",
              "  </style>\n",
              "\n",
              "      <script>\n",
              "        const buttonEl =\n",
              "          document.querySelector('#df-e8b1b6b9-4c58-4cf2-9b90-ceaa381a57d9 button.colab-df-convert');\n",
              "        buttonEl.style.display =\n",
              "          google.colab.kernel.accessAllowed ? 'block' : 'none';\n",
              "\n",
              "        async function convertToInteractive(key) {\n",
              "          const element = document.querySelector('#df-e8b1b6b9-4c58-4cf2-9b90-ceaa381a57d9');\n",
              "          const dataTable =\n",
              "            await google.colab.kernel.invokeFunction('convertToInteractive',\n",
              "                                                     [key], {});\n",
              "          if (!dataTable) return;\n",
              "\n",
              "          const docLinkHtml = 'Like what you see? Visit the ' +\n",
              "            '<a target=\"_blank\" href=https://colab.research.google.com/notebooks/data_table.ipynb>data table notebook</a>'\n",
              "            + ' to learn more about interactive tables.';\n",
              "          element.innerHTML = '';\n",
              "          dataTable['output_type'] = 'display_data';\n",
              "          await google.colab.output.renderOutput(dataTable, element);\n",
              "          const docLink = document.createElement('div');\n",
              "          docLink.innerHTML = docLinkHtml;\n",
              "          element.appendChild(docLink);\n",
              "        }\n",
              "      </script>\n",
              "    </div>\n",
              "  </div>\n",
              "  "
            ]
          },
          "metadata": {},
          "execution_count": 41
        }
      ]
    },
    {
      "cell_type": "markdown",
      "source": [
        "### Comando LIKE"
      ],
      "metadata": {
        "id": "GL1x6yyTYwNe"
      }
    },
    {
      "cell_type": "code",
      "source": [
        "# consulta com o comando LIKE\n",
        "empresas \\\n",
        "  .select('razao_social_nome_empresarial', 'natureza_juridica', 'porte_da_empresa', 'capital_social_da_empresa') \\\n",
        "  .filter(f.upper(empresas['razao_social_nome_empresarial']).like('%RESTAURANTE')) \\\n",
        "  .show(15, False)"
      ],
      "metadata": {
        "id": "0XGUE6TQvGWr"
      },
      "execution_count": null,
      "outputs": []
    },
    {
      "cell_type": "markdown",
      "source": [
        "### Agrupamento e sumarização dos dados"
      ],
      "metadata": {
        "id": "DQoSXjihggke"
      }
    },
    {
      "cell_type": "code",
      "source": [
        "# contagem e agrupamento por ano de entrada na sociedade de empresa\n",
        "socios \\\n",
        "  .select(f.year('data_de_entrada_sociedade').alias('ano_de_entrada')) \\\n",
        "  .where('ano_de_entrada >= 2010') \\\n",
        "  .groupBy('ano_de_entrada') \\\n",
        "  .count() \\\n",
        "  .orderBy('ano_de_entrada', ascending=True) \\\n",
        "  .show()"
      ],
      "metadata": {
        "id": "NG2NaV7jvGUH"
      },
      "execution_count": null,
      "outputs": []
    },
    {
      "cell_type": "code",
      "source": [
        "empresas \\\n",
        "  .select('cnpj_basico', 'porte_da_empresa', 'capital_social_da_empresa') \\\n",
        "  .groupBy('porte_da_empresa') \\\n",
        "  .agg(\n",
        "      f.avg(\"capital_social_da_empresa\").alias(\"Capital_social_medio\"),\n",
        "      f.count(\"cnpj_basico\").alias(\"Frequencia\")) \\\n",
        "  .orderBy('porte_da_empresa', ascendig=True) \\\n",
        "  .show()"
      ],
      "metadata": {
        "id": "LBgDY3Y4vGPb"
      },
      "execution_count": null,
      "outputs": []
    },
    {
      "cell_type": "code",
      "source": [
        "empresas \\\n",
        "  .select(\"capital_social_da_empresa\") \\\n",
        "  .summary()\\\n",
        "  .show()\n",
        "\n",
        "# .summary(\"count\", \"mean\", \"stddev\", \"min\", \"25%\", \"50%\", \"75%\", \"max\")"
      ],
      "metadata": {
        "id": "Wjj_o__ivGJB"
      },
      "execution_count": null,
      "outputs": []
    },
    {
      "cell_type": "markdown",
      "source": [
        "### Juntando DataFrames"
      ],
      "metadata": {
        "id": "kHwZyAXftcNy"
      }
    },
    {
      "cell_type": "code",
      "source": [
        "empresas.printSchema()"
      ],
      "metadata": {
        "id": "Eg0RnKHvs--z"
      },
      "execution_count": null,
      "outputs": []
    },
    {
      "cell_type": "code",
      "source": [
        "estab.printSchema()"
      ],
      "metadata": {
        "id": "tRQSPyyis-8d"
      },
      "execution_count": null,
      "outputs": []
    },
    {
      "cell_type": "code",
      "source": [
        "socios.printSchema()"
      ],
      "metadata": {
        "id": "YkrU4yWBs-55"
      },
      "execution_count": null,
      "outputs": []
    },
    {
      "cell_type": "code",
      "source": [
        "# junção de estabelecimentos com empresas\n",
        "empresas_join = estab.join(empresas, 'cnpj_basico', how='inner')\n",
        "empresas_join.printSchema()"
      ],
      "metadata": {
        "id": "iWsG1ChRs-3Q"
      },
      "execution_count": null,
      "outputs": []
    },
    {
      "cell_type": "code",
      "source": [
        "# distribuição de frequencia segundo o ano de inicio de atividade\n",
        "freq = empresas_join \\\n",
        "  .select(\n",
        "      'cnpj_basico',\n",
        "      f.year('data_de_inicio_atividade').alias('data_de_inicio'))\\\n",
        "  .where('data_de_inicio >= 2010') \\\n",
        "  .groupBy('data_de_inicio') \\\n",
        "  .agg(f.count('cnpj_basico').alias('frequencia')) \\\n",
        "  .orderBy('data_de_inicio', ascending=True)"
      ],
      "metadata": {
        "id": "LymDx6lQs-0n"
      },
      "execution_count": 58,
      "outputs": []
    },
    {
      "cell_type": "code",
      "source": [
        "freq.toPandas()"
      ],
      "metadata": {
        "id": "BMBIZFems-yB"
      },
      "execution_count": null,
      "outputs": []
    },
    {
      "cell_type": "code",
      "source": [
        "#fazendo uma union\n",
        "freq.union(\n",
        "    freq.select(\n",
        "        f.lit('Total').alias('data_de_inicio'),\n",
        "        f.sum(freq.frequencia).alias('frequencia')\n",
        "    )\n",
        "). show()"
      ],
      "metadata": {
        "id": "FbsO34Pls-vL"
      },
      "execution_count": null,
      "outputs": []
    },
    {
      "cell_type": "markdown",
      "source": [
        "### SparkSQL\n",
        "\n",
        "A SparkSession permite que façamos consultas SQL utilizando escritas da maneira padrão. para que isso seja possível, é necessário que criemos uma view temporária do dataframe, que será usada dentro das instruções SQL em nosso método."
      ],
      "metadata": {
        "id": "KEtS-ZTbKDa7"
      }
    },
    {
      "cell_type": "code",
      "source": [
        "# criando uma view temporária\n",
        "empresas.createOrReplaceTempView('empresasView')"
      ],
      "metadata": {
        "id": "O43nldYFs-sT"
      },
      "execution_count": 62,
      "outputs": []
    },
    {
      "cell_type": "code",
      "source": [
        "# escrevendo instruções SQL\n",
        "spark.sql(\"SELECT * FROM empresasView\").show(5)"
      ],
      "metadata": {
        "id": "t6H9rG-ps-pa"
      },
      "execution_count": null,
      "outputs": []
    },
    {
      "cell_type": "code",
      "source": [
        "spark \\\n",
        "  .sql(\"\"\"\n",
        "        SELECT razao_social_nome_empresarial, capital_social_da_empresa FROM empresasView\n",
        "        WHERE capital_social_da_empresa = 50\"\"\")\\\n",
        "  .show(5)"
      ],
      "metadata": {
        "id": "32kIm9o7RIvE"
      },
      "execution_count": null,
      "outputs": []
    },
    {
      "cell_type": "code",
      "source": [
        "spark \\\n",
        "  .sql(\"\"\"\n",
        "        SELECT porte_da_empresa, MEAN(capital_social_da_empresa) AS Media\n",
        "        FROM empresasView\n",
        "        GROUP BY porte_da_empresa\"\"\")\\\n",
        "  .show(5)"
      ],
      "metadata": {
        "id": "WqdTauZqRIsO"
      },
      "execution_count": null,
      "outputs": []
    },
    {
      "cell_type": "code",
      "source": [
        "# criando uma view temporária de empresas_join\n",
        "empresas_join.createOrReplaceTempView('empresasJoinView')"
      ],
      "metadata": {
        "id": "-xy9HxVRRIp3"
      },
      "execution_count": 67,
      "outputs": []
    },
    {
      "cell_type": "code",
      "source": [
        "freq = spark \\\n",
        "  .sql(\"\"\"\n",
        "        SELECT YEAR(data_de_inicio_atividade) AS data_de_inicio, COUNT(cnpj_basico) AS count_cnpj\n",
        "        FROM empresasJoinView\n",
        "        WHERE YEAR(data_de_inicio_atividade) >= 2010\n",
        "        GROUP BY data_de_inicio\n",
        "        ORDER BY data_de_inicio\"\"\")\n",
        "  \n",
        "freq.show(5)"
      ],
      "metadata": {
        "id": "nAPhZK4pRInP"
      },
      "execution_count": null,
      "outputs": []
    },
    {
      "cell_type": "code",
      "source": [
        "freq.createOrReplaceTempView('freqView')"
      ],
      "metadata": {
        "id": "YTiugyvzRIkG"
      },
      "execution_count": 71,
      "outputs": []
    },
    {
      "cell_type": "code",
      "source": [
        "spark\\\n",
        "  .sql(\"\"\"\n",
        "        SELECT * FROM freqView\n",
        "        UNION ALL \n",
        "        SELECT 'total' as data_de_inicio, SUM(count_cnpj) AS count\n",
        "        FROM freqView\n",
        "      \"\"\")\\\n",
        "  .show()"
      ],
      "metadata": {
        "id": "lW-TlzmkRIeI"
      },
      "execution_count": null,
      "outputs": []
    },
    {
      "cell_type": "markdown",
      "source": [
        "### Arquivos CSV\n",
        "\n",
        "[DataFrameWriter.csv(*args)](https://spark.apache.org/docs/3.1.2/api/python/reference/api/pyspark.sql.DataFrame.write.html)\n",
        "\n",
        "https://spark.apache.org/docs/3.1.2/api/python/reference/api/pyspark.sql.DataFrameWriter.csv.html"
      ],
      "metadata": {
        "id": "OQxUzhE_WREz"
      }
    },
    {
      "cell_type": "code",
      "source": [
        "# salvando os dados em arquivo .csv\n",
        "empresas.write.csv(\n",
        "    path = '/content/drive/MyDrive/Colab Notebooks/spark/arquivos-projeto/empresas/csv',\n",
        "    mode='overwrite',\n",
        "    sep=';',\n",
        "    header=True\n",
        ")"
      ],
      "metadata": {
        "id": "TGfSkUz0RIbA"
      },
      "execution_count": 75,
      "outputs": []
    },
    {
      "cell_type": "code",
      "source": [
        "# lendo os arquivos salvos\n",
        "empresas2 = spark.read.csv(\n",
        "    '/content/drive/MyDrive/Colab Notebooks/spark/arquivos-projeto/empresas/csv',\n",
        "    sep=';',\n",
        "    inferSchema=True,\n",
        "    header=True)\n",
        "\n",
        "empresas2.printSchema()"
      ],
      "metadata": {
        "id": "GI8ixMWGRISZ"
      },
      "execution_count": 77,
      "outputs": []
    },
    {
      "cell_type": "code",
      "source": [
        "# salvando os dados em arquivo .csv (estabelecimentos)\n",
        "estab.write.csv(\n",
        "    path = '/content/drive/MyDrive/Colab Notebooks/spark/arquivos-projeto/estabelecimentos/csv',\n",
        "    mode='overwrite',\n",
        "    sep=';',\n",
        "    header=True\n",
        ")"
      ],
      "metadata": {
        "id": "zL-c5svyVzR0"
      },
      "execution_count": 83,
      "outputs": []
    },
    {
      "cell_type": "code",
      "source": [
        "# lendo os arquivos salvos\n",
        "estab2 = spark.read.csv(\n",
        "    '/content/drive/MyDrive/Colab Notebooks/spark/arquivos-projeto/estabelecimentos/csv',\n",
        "    sep=';',\n",
        "    inferSchema=True,\n",
        "    header=True)\n",
        "\n",
        "estab2.printSchema()\n"
      ],
      "metadata": {
        "id": "S1LhMqGyVzPa"
      },
      "execution_count": null,
      "outputs": []
    },
    {
      "cell_type": "code",
      "source": [
        "# salvando os dados em arquivo .csv (socios)\n",
        "socios.write.csv(\n",
        "    path = '/content/drive/MyDrive/Colab Notebooks/spark/arquivos-projeto/socios/csv',\n",
        "    mode='overwrite',\n",
        "    sep=';',\n",
        "    header=True\n",
        ")"
      ],
      "metadata": {
        "id": "HRmoZr9jVzMi"
      },
      "execution_count": null,
      "outputs": []
    },
    {
      "cell_type": "code",
      "source": [
        "# lendo os arquivos salvos\n",
        "socios2 = spark.read.csv(\n",
        "    '/content/drive/MyDrive/Colab Notebooks/spark/arquivos-projeto/socios/csv',\n",
        "    sep=';',\n",
        "    inferSchema=True,\n",
        "    header=True)\n",
        "\n",
        "socios2.printSchema()\n"
      ],
      "metadata": {
        "id": "CpNBDoWMVzJf"
      },
      "execution_count": null,
      "outputs": []
    },
    {
      "cell_type": "markdown",
      "source": [
        "### Arquivos Parquet\n",
        "\n",
        "[Apache Parquet](https://parquet.apache.org/docs/)\n"
      ],
      "metadata": {
        "id": "W53nm98nZbMF"
      }
    },
    {
      "cell_type": "code",
      "source": [
        "# salvando os dados em arquivo .parquet\n",
        "empresas.write.parquet(\n",
        "    path = '/content/drive/MyDrive/Colab Notebooks/spark/arquivos-projeto/empresas/parquet',\n",
        "    mode='overwrite')"
      ],
      "metadata": {
        "id": "5quon3KkVzHE"
      },
      "execution_count": 80,
      "outputs": []
    },
    {
      "cell_type": "code",
      "source": [
        "# lendo os arquivos .parquet\n",
        "empresas_parquet = spark.read.parquet(\n",
        "    '/content/drive/MyDrive/Colab Notebooks/spark/arquivos-projeto/empresas/parquet')\n",
        "\n",
        "empresas_parquet.printSchema()"
      ],
      "metadata": {
        "id": "APbF0vJ7VzFC"
      },
      "execution_count": 81,
      "outputs": []
    },
    {
      "cell_type": "code",
      "source": [],
      "metadata": {
        "id": "H8CmWVHzVzBo"
      },
      "execution_count": null,
      "outputs": []
    },
    {
      "cell_type": "code",
      "source": [
        "estab.write.parquet(\n",
        "    path = '/content/drive/MyDrive/Colab Notebooks/spark/arquivos-projeto/estabelecimentos/parquet',\n",
        "    mode='overwrite')\n",
        "\n",
        "estabs_parquet = spark.read.parquet('/content/drive/MyDrive/Colab Notebooks/spark/arquivos-projeto/estabelecimentos/parquet')\n",
        "estabs_parquet.printSchema()"
      ],
      "metadata": {
        "id": "jSblEAP-bXeP"
      },
      "execution_count": null,
      "outputs": []
    },
    {
      "cell_type": "code",
      "source": [
        "socios.write.parquet(\n",
        "    path = '/content/drive/MyDrive/Colab Notebooks/spark/arquivos-projeto/socios/parquet',\n",
        "    mode='overwrite')\n",
        "\n",
        "socios_parquet = spark.read.parquet('/content/drive/MyDrive/Colab Notebooks/spark/arquivos-projeto/socios/parquet')\n",
        "socios_parquet.printSchema()"
      ],
      "metadata": {
        "id": "51jbWOOObXWL"
      },
      "execution_count": null,
      "outputs": []
    },
    {
      "cell_type": "markdown",
      "source": [
        "### Particionamento dos dados\n",
        "\n",
        "[DataFrameWriter.partitionBy(*cols)](https://)"
      ],
      "metadata": {
        "id": "MiBSKIIPbR-8"
      }
    },
    {
      "cell_type": "code",
      "source": [
        "empresas.coalesce(1).write.csv(\n",
        "    path='/content/drive/MyDrive/Colab Notebooks/spark/arquivos-projeto/empresas/csv-unico',\n",
        "    mode='overwrite',\n",
        "    sep=';',\n",
        "    header=True\n",
        ")"
      ],
      "metadata": {
        "id": "ympHTEFkVy-O"
      },
      "execution_count": 84,
      "outputs": []
    },
    {
      "cell_type": "code",
      "source": [
        "empresas.write.parquet(\n",
        "    path = '/content/drive/MyDrive/Colab Notebooks/spark/arquivos-projeto/empresas/parquet_partitionBy',\n",
        "    mode='overwrite',\n",
        "    partitionBy='porte_da_empresa')"
      ],
      "metadata": {
        "id": "ZLB3sCjRVy7I"
      },
      "execution_count": 85,
      "outputs": []
    },
    {
      "cell_type": "code",
      "source": [
        "# encerrando a sparkSession\n",
        "spark.stop()"
      ],
      "metadata": {
        "id": "pZLqaiUmVy4f"
      },
      "execution_count": 86,
      "outputs": []
    },
    {
      "cell_type": "code",
      "source": [],
      "metadata": {
        "id": "-oTmLzHaVy0l"
      },
      "execution_count": null,
      "outputs": []
    },
    {
      "cell_type": "code",
      "source": [],
      "metadata": {
        "id": "ZkwLCvzqVyvo"
      },
      "execution_count": null,
      "outputs": []
    }
  ]
}